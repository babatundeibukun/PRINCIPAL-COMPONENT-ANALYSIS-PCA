{
  "nbformat": 4,
  "nbformat_minor": 0,
  "metadata": {
    "colab": {
      "provenance": []
    },
    "kernelspec": {
      "name": "python3",
      "display_name": "Python 3"
    },
    "language_info": {
      "name": "python"
    }
  },
  "cells": [
    {
      "cell_type": "code",
      "execution_count": 3,
      "metadata": {
        "id": "JGUpBkxPTfKf"
      },
      "outputs": [],
      "source": [
        "import numpy as np\n",
        "import matplotlib.pyplot as plt\n",
        "import numpy.random as rnd"
      ]
    },
    {
      "cell_type": "code",
      "source": [
        "#create a random data \n",
        "# Create random 2d data\n",
        "mu = np.array([10,13])\n",
        "sigma = np.array([[3.5, -1.8], [-1.8,3.5]])\n",
        "\n",
        "print(\"Mu \", mu.shape)\n",
        "print(\"Sigma \", sigma.shape)\n",
        "\n",
        "# Create 1000 samples using mean and sigma\n",
        "org_data = rnd.multivariate_normal(mu, sigma, size=(1000))\n",
        "print(\"Data shape \", org_data.shape)"
      ],
      "metadata": {
        "colab": {
          "base_uri": "https://localhost:8080/"
        },
        "id": "ARua7zFeNiR9",
        "outputId": "7389ddee-39c6-4b64-b8ed-299b5966d317"
      },
      "execution_count": 4,
      "outputs": [
        {
          "output_type": "stream",
          "name": "stdout",
          "text": [
            "Mu  (2,)\n",
            "Sigma  (2, 2)\n",
            "Data shape  (1000, 2)\n"
          ]
        }
      ]
    },
    {
      "cell_type": "code",
      "source": [
        "# Subtract mean from data\n",
        "mean = np.mean(org_data, axis= 0)\n",
        "print(\"Mean \", mean.shape)\n",
        "mean_data = org_data - mean\n",
        "print(\"Data after subtracting mean \", org_data.shape, \"\\n\")"
      ],
      "metadata": {
        "colab": {
          "base_uri": "https://localhost:8080/"
        },
        "id": "D0DZ8jKkWRSl",
        "outputId": "c20241e1-fe01-4849-833a-c0a847f89f19"
      },
      "execution_count": 5,
      "outputs": [
        {
          "output_type": "stream",
          "name": "stdout",
          "text": [
            "Mean  (2,)\n",
            "Data after subtracting mean  (1000, 2) \n",
            "\n"
          ]
        }
      ]
    },
    {
      "cell_type": "code",
      "source": [
        "# Compute covariance matrix\n",
        "cov = np.cov(mean_data.T)\n",
        "cov = np.round(cov, 2)\n",
        "print(\"Covariance matrix \", cov.shape, \"\\n\")"
      ],
      "metadata": {
        "colab": {
          "base_uri": "https://localhost:8080/"
        },
        "id": "KDSW41nYXsML",
        "outputId": "2c5f9620-5f2a-40bf-9264-d81e1a4aae37"
      },
      "execution_count": 6,
      "outputs": [
        {
          "output_type": "stream",
          "name": "stdout",
          "text": [
            "Covariance matrix  (2, 2) \n",
            "\n"
          ]
        }
      ]
    },
    {
      "cell_type": "code",
      "source": [
        "# Perform eigen decomposition of covariance matrix\n",
        "eig_val, eig_vec = np.linalg.eig(cov)\n",
        "print(\"Eigen vectors \", eig_vec)\n",
        "print(\"Eigen values \", eig_val, \"\\n\")"
      ],
      "metadata": {
        "colab": {
          "base_uri": "https://localhost:8080/"
        },
        "id": "td6lb7PWarxH",
        "outputId": "01b7a292-7b65-4065-ca1b-959a220816e0"
      },
      "execution_count": 7,
      "outputs": [
        {
          "output_type": "stream",
          "name": "stdout",
          "text": [
            "Eigen vectors  [[ 0.72307813  0.69076626]\n",
            " [-0.69076626  0.72307813]]\n",
            "Eigen values  [4.93671404 1.65328596] \n",
            "\n"
          ]
        }
      ]
    },
    {
      "cell_type": "code",
      "source": [
        "# Sort eigen values and corresponding eigen vectors in descending order\n",
        "indices = np.arange(0,len(eig_val), 1)\n",
        "indices = ([x for _,x in sorted(zip(eig_val, indices))])[::-1]\n",
        "eig_val = eig_val[indices]\n",
        "eig_vec = eig_vec[:,indices]\n",
        "print(\"Sorted Eigen vectors \", eig_vec)\n",
        "print(\"Sorted Eigen values \", eig_val, \"\\n\")"
      ],
      "metadata": {
        "colab": {
          "base_uri": "https://localhost:8080/"
        },
        "id": "q47eUNEnd-3u",
        "outputId": "71c1d314-a53d-4736-f8d5-7c38907850ff"
      },
      "execution_count": 8,
      "outputs": [
        {
          "output_type": "stream",
          "name": "stdout",
          "text": [
            "Sorted Eigen vectors  [[ 0.72307813  0.69076626]\n",
            " [-0.69076626  0.72307813]]\n",
            "Sorted Eigen values  [4.93671404 1.65328596] \n",
            "\n"
          ]
        }
      ]
    },
    {
      "cell_type": "code",
      "source": [
        "# Get explained variance\n",
        "sum_eig_val = np.sum(eig_val)\n",
        "explained_variance = eig_val/ sum_eig_val\n",
        "print(explained_variance)\n",
        "cumulative_variance = np.cumsum(explained_variance)\n",
        "print(cumulative_variance)"
      ],
      "metadata": {
        "colab": {
          "base_uri": "https://localhost:8080/"
        },
        "id": "Qz3OLYm9TQ6a",
        "outputId": "c6f4c1ac-bb1c-412b-ef41-c9d7e3209d69"
      },
      "execution_count": 9,
      "outputs": [
        {
          "output_type": "stream",
          "name": "stdout",
          "text": [
            "[0.74912201 0.25087799]\n",
            "[0.74912201 1.        ]\n"
          ]
        }
      ]
    },
    {
      "cell_type": "code",
      "source": [
        "# Take transpose of eigen vectors with data\n",
        "pca_data = np.dot(mean_data, eig_vec)\n",
        "print(\"Transformed data \", pca_data.shape)"
      ],
      "metadata": {
        "colab": {
          "base_uri": "https://localhost:8080/"
        },
        "id": "K9Fkp6MHTeL2",
        "outputId": "77216ee3-66d5-4260-c99c-c6c1315e825d"
      },
      "execution_count": 10,
      "outputs": [
        {
          "output_type": "stream",
          "name": "stdout",
          "text": [
            "Transformed data  (1000, 2)\n"
          ]
        }
      ]
    }
  ]
}